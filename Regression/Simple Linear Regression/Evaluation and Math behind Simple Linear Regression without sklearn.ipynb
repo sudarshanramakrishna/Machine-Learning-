{
 "cells": [
  {
   "cell_type": "code",
   "execution_count": 24,
   "id": "a0d782f9",
   "metadata": {},
   "outputs": [],
   "source": [
    "import pandas as pd\n",
    "import numpy as np\n",
    "import seaborn as sns"
   ]
  },
  {
   "cell_type": "code",
   "execution_count": 25,
   "id": "fbfb0084",
   "metadata": {},
   "outputs": [
    {
     "data": {
      "text/html": [
       "<div>\n",
       "<style scoped>\n",
       "    .dataframe tbody tr th:only-of-type {\n",
       "        vertical-align: middle;\n",
       "    }\n",
       "\n",
       "    .dataframe tbody tr th {\n",
       "        vertical-align: top;\n",
       "    }\n",
       "\n",
       "    .dataframe thead th {\n",
       "        text-align: right;\n",
       "    }\n",
       "</style>\n",
       "<table border=\"1\" class=\"dataframe\">\n",
       "  <thead>\n",
       "    <tr style=\"text-align: right;\">\n",
       "      <th></th>\n",
       "      <th>YearsExperience</th>\n",
       "      <th>Salary</th>\n",
       "    </tr>\n",
       "  </thead>\n",
       "  <tbody>\n",
       "    <tr>\n",
       "      <th>0</th>\n",
       "      <td>1.1</td>\n",
       "      <td>39343.0</td>\n",
       "    </tr>\n",
       "    <tr>\n",
       "      <th>1</th>\n",
       "      <td>1.3</td>\n",
       "      <td>46205.0</td>\n",
       "    </tr>\n",
       "    <tr>\n",
       "      <th>2</th>\n",
       "      <td>1.5</td>\n",
       "      <td>37731.0</td>\n",
       "    </tr>\n",
       "    <tr>\n",
       "      <th>3</th>\n",
       "      <td>2.0</td>\n",
       "      <td>43525.0</td>\n",
       "    </tr>\n",
       "    <tr>\n",
       "      <th>4</th>\n",
       "      <td>2.2</td>\n",
       "      <td>39891.0</td>\n",
       "    </tr>\n",
       "    <tr>\n",
       "      <th>5</th>\n",
       "      <td>2.9</td>\n",
       "      <td>56642.0</td>\n",
       "    </tr>\n",
       "    <tr>\n",
       "      <th>6</th>\n",
       "      <td>3.0</td>\n",
       "      <td>60150.0</td>\n",
       "    </tr>\n",
       "    <tr>\n",
       "      <th>7</th>\n",
       "      <td>3.2</td>\n",
       "      <td>54445.0</td>\n",
       "    </tr>\n",
       "    <tr>\n",
       "      <th>8</th>\n",
       "      <td>3.2</td>\n",
       "      <td>64445.0</td>\n",
       "    </tr>\n",
       "    <tr>\n",
       "      <th>9</th>\n",
       "      <td>3.7</td>\n",
       "      <td>57189.0</td>\n",
       "    </tr>\n",
       "    <tr>\n",
       "      <th>10</th>\n",
       "      <td>3.9</td>\n",
       "      <td>63218.0</td>\n",
       "    </tr>\n",
       "    <tr>\n",
       "      <th>11</th>\n",
       "      <td>4.0</td>\n",
       "      <td>55794.0</td>\n",
       "    </tr>\n",
       "    <tr>\n",
       "      <th>12</th>\n",
       "      <td>4.0</td>\n",
       "      <td>56957.0</td>\n",
       "    </tr>\n",
       "    <tr>\n",
       "      <th>13</th>\n",
       "      <td>4.1</td>\n",
       "      <td>57081.0</td>\n",
       "    </tr>\n",
       "    <tr>\n",
       "      <th>14</th>\n",
       "      <td>4.5</td>\n",
       "      <td>61111.0</td>\n",
       "    </tr>\n",
       "    <tr>\n",
       "      <th>15</th>\n",
       "      <td>4.9</td>\n",
       "      <td>67938.0</td>\n",
       "    </tr>\n",
       "    <tr>\n",
       "      <th>16</th>\n",
       "      <td>5.1</td>\n",
       "      <td>66029.0</td>\n",
       "    </tr>\n",
       "    <tr>\n",
       "      <th>17</th>\n",
       "      <td>5.3</td>\n",
       "      <td>83088.0</td>\n",
       "    </tr>\n",
       "    <tr>\n",
       "      <th>18</th>\n",
       "      <td>5.9</td>\n",
       "      <td>81363.0</td>\n",
       "    </tr>\n",
       "    <tr>\n",
       "      <th>19</th>\n",
       "      <td>6.0</td>\n",
       "      <td>93940.0</td>\n",
       "    </tr>\n",
       "    <tr>\n",
       "      <th>20</th>\n",
       "      <td>6.8</td>\n",
       "      <td>91738.0</td>\n",
       "    </tr>\n",
       "    <tr>\n",
       "      <th>21</th>\n",
       "      <td>7.1</td>\n",
       "      <td>98273.0</td>\n",
       "    </tr>\n",
       "    <tr>\n",
       "      <th>22</th>\n",
       "      <td>7.9</td>\n",
       "      <td>101302.0</td>\n",
       "    </tr>\n",
       "    <tr>\n",
       "      <th>23</th>\n",
       "      <td>8.2</td>\n",
       "      <td>113812.0</td>\n",
       "    </tr>\n",
       "    <tr>\n",
       "      <th>24</th>\n",
       "      <td>8.7</td>\n",
       "      <td>109431.0</td>\n",
       "    </tr>\n",
       "    <tr>\n",
       "      <th>25</th>\n",
       "      <td>9.0</td>\n",
       "      <td>105582.0</td>\n",
       "    </tr>\n",
       "    <tr>\n",
       "      <th>26</th>\n",
       "      <td>9.5</td>\n",
       "      <td>116969.0</td>\n",
       "    </tr>\n",
       "    <tr>\n",
       "      <th>27</th>\n",
       "      <td>9.6</td>\n",
       "      <td>112635.0</td>\n",
       "    </tr>\n",
       "    <tr>\n",
       "      <th>28</th>\n",
       "      <td>10.3</td>\n",
       "      <td>122391.0</td>\n",
       "    </tr>\n",
       "    <tr>\n",
       "      <th>29</th>\n",
       "      <td>10.5</td>\n",
       "      <td>121872.0</td>\n",
       "    </tr>\n",
       "  </tbody>\n",
       "</table>\n",
       "</div>"
      ],
      "text/plain": [
       "    YearsExperience    Salary\n",
       "0               1.1   39343.0\n",
       "1               1.3   46205.0\n",
       "2               1.5   37731.0\n",
       "3               2.0   43525.0\n",
       "4               2.2   39891.0\n",
       "5               2.9   56642.0\n",
       "6               3.0   60150.0\n",
       "7               3.2   54445.0\n",
       "8               3.2   64445.0\n",
       "9               3.7   57189.0\n",
       "10              3.9   63218.0\n",
       "11              4.0   55794.0\n",
       "12              4.0   56957.0\n",
       "13              4.1   57081.0\n",
       "14              4.5   61111.0\n",
       "15              4.9   67938.0\n",
       "16              5.1   66029.0\n",
       "17              5.3   83088.0\n",
       "18              5.9   81363.0\n",
       "19              6.0   93940.0\n",
       "20              6.8   91738.0\n",
       "21              7.1   98273.0\n",
       "22              7.9  101302.0\n",
       "23              8.2  113812.0\n",
       "24              8.7  109431.0\n",
       "25              9.0  105582.0\n",
       "26              9.5  116969.0\n",
       "27              9.6  112635.0\n",
       "28             10.3  122391.0\n",
       "29             10.5  121872.0"
      ]
     },
     "execution_count": 25,
     "metadata": {},
     "output_type": "execute_result"
    }
   ],
   "source": [
    "df = pd.read_csv('Salary_Data.csv')\n",
    "df"
   ]
  },
  {
   "cell_type": "code",
   "execution_count": 26,
   "id": "73326678",
   "metadata": {},
   "outputs": [
    {
     "name": "stdout",
     "output_type": "stream",
     "text": [
      "<class 'pandas.core.frame.DataFrame'>\n",
      "RangeIndex: 30 entries, 0 to 29\n",
      "Data columns (total 2 columns):\n",
      " #   Column           Non-Null Count  Dtype  \n",
      "---  ------           --------------  -----  \n",
      " 0   YearsExperience  30 non-null     float64\n",
      " 1   Salary           30 non-null     float64\n",
      "dtypes: float64(2)\n",
      "memory usage: 608.0 bytes\n"
     ]
    }
   ],
   "source": [
    "df.info()"
   ]
  },
  {
   "cell_type": "code",
   "execution_count": 27,
   "id": "10541610",
   "metadata": {},
   "outputs": [
    {
     "data": {
      "text/html": [
       "<div>\n",
       "<style scoped>\n",
       "    .dataframe tbody tr th:only-of-type {\n",
       "        vertical-align: middle;\n",
       "    }\n",
       "\n",
       "    .dataframe tbody tr th {\n",
       "        vertical-align: top;\n",
       "    }\n",
       "\n",
       "    .dataframe thead th {\n",
       "        text-align: right;\n",
       "    }\n",
       "</style>\n",
       "<table border=\"1\" class=\"dataframe\">\n",
       "  <thead>\n",
       "    <tr style=\"text-align: right;\">\n",
       "      <th></th>\n",
       "      <th>YearsExperience</th>\n",
       "      <th>Salary</th>\n",
       "    </tr>\n",
       "  </thead>\n",
       "  <tbody>\n",
       "    <tr>\n",
       "      <th>count</th>\n",
       "      <td>30.000000</td>\n",
       "      <td>30.000000</td>\n",
       "    </tr>\n",
       "    <tr>\n",
       "      <th>mean</th>\n",
       "      <td>5.313333</td>\n",
       "      <td>76003.000000</td>\n",
       "    </tr>\n",
       "    <tr>\n",
       "      <th>std</th>\n",
       "      <td>2.837888</td>\n",
       "      <td>27414.429785</td>\n",
       "    </tr>\n",
       "    <tr>\n",
       "      <th>min</th>\n",
       "      <td>1.100000</td>\n",
       "      <td>37731.000000</td>\n",
       "    </tr>\n",
       "    <tr>\n",
       "      <th>25%</th>\n",
       "      <td>3.200000</td>\n",
       "      <td>56720.750000</td>\n",
       "    </tr>\n",
       "    <tr>\n",
       "      <th>50%</th>\n",
       "      <td>4.700000</td>\n",
       "      <td>65237.000000</td>\n",
       "    </tr>\n",
       "    <tr>\n",
       "      <th>75%</th>\n",
       "      <td>7.700000</td>\n",
       "      <td>100544.750000</td>\n",
       "    </tr>\n",
       "    <tr>\n",
       "      <th>max</th>\n",
       "      <td>10.500000</td>\n",
       "      <td>122391.000000</td>\n",
       "    </tr>\n",
       "  </tbody>\n",
       "</table>\n",
       "</div>"
      ],
      "text/plain": [
       "       YearsExperience         Salary\n",
       "count        30.000000      30.000000\n",
       "mean          5.313333   76003.000000\n",
       "std           2.837888   27414.429785\n",
       "min           1.100000   37731.000000\n",
       "25%           3.200000   56720.750000\n",
       "50%           4.700000   65237.000000\n",
       "75%           7.700000  100544.750000\n",
       "max          10.500000  122391.000000"
      ]
     },
     "execution_count": 27,
     "metadata": {},
     "output_type": "execute_result"
    }
   ],
   "source": [
    "df.describe()"
   ]
  },
  {
   "cell_type": "code",
   "execution_count": 28,
   "id": "ca940c84",
   "metadata": {},
   "outputs": [
    {
     "data": {
      "text/plain": [
       "<AxesSubplot:>"
      ]
     },
     "execution_count": 28,
     "metadata": {},
     "output_type": "execute_result"
    },
    {
     "data": {
      "image/png": "[encoded data removed]",
      "text/plain": [
       "<Figure size 640x480 with 1 Axes>"
      ]
     },
     "metadata": {},
     "output_type": "display_data"
    }
   ],
   "source": [
    "df.Salary.plot.line()"
   ]
  },
  {
   "cell_type": "code",
   "execution_count": 29,
   "id": "45d82d3b",
   "metadata": {},
   "outputs": [
    {
     "data": {
      "text/plain": [
       "<AxesSubplot:xlabel='YearsExperience', ylabel='Salary'>"
      ]
     },
     "execution_count": 29,
     "metadata": {},
     "output_type": "execute_result"
    },
    {
     "data": {
      "image/png": "[encoded data removed]",
      "text/plain": [
       "<Figure size 640x480 with 1 Axes>"
      ]
     },
     "metadata": {},
     "output_type": "display_data"
    }
   ],
   "source": [
    "df.plot.scatter(x='YearsExperience',y='Salary')"
   ]
  },
  {
   "cell_type": "code",
   "execution_count": 31,
   "id": "b9e7bad3",
   "metadata": {},
   "outputs": [
    {
     "data": {
      "text/plain": [
       "<AxesSubplot:xlabel='YearsExperience', ylabel='Salary'>"
      ]
     },
     "execution_count": 31,
     "metadata": {},
     "output_type": "execute_result"
    },
    {
     "data": {
      "image/png": "[encoded data removed]",
      "text/plain": [
       "<Figure size 640x480 with 1 Axes>"
      ]
     },
     "metadata": {},
     "output_type": "display_data"
    }
   ],
   "source": [
    "sns.regplot(x='YearsExperience',y='Salary', data=df)"
   ]
  },
  {
   "cell_type": "code",
   "execution_count": 20,
   "id": "3534264d",
   "metadata": {},
   "outputs": [
    {
     "data": {
      "text/html": [
       "<div>\n",
       "<style scoped>\n",
       "    .dataframe tbody tr th:only-of-type {\n",
       "        vertical-align: middle;\n",
       "    }\n",
       "\n",
       "    .dataframe tbody tr th {\n",
       "        vertical-align: top;\n",
       "    }\n",
       "\n",
       "    .dataframe thead th {\n",
       "        text-align: right;\n",
       "    }\n",
       "</style>\n",
       "<table border=\"1\" class=\"dataframe\">\n",
       "  <thead>\n",
       "    <tr style=\"text-align: right;\">\n",
       "      <th></th>\n",
       "      <th>YearsExperience</th>\n",
       "      <th>Salary</th>\n",
       "    </tr>\n",
       "  </thead>\n",
       "  <tbody>\n",
       "    <tr>\n",
       "      <th>YearsExperience</th>\n",
       "      <td>1.000000</td>\n",
       "      <td>0.978242</td>\n",
       "    </tr>\n",
       "    <tr>\n",
       "      <th>Salary</th>\n",
       "      <td>0.978242</td>\n",
       "      <td>1.000000</td>\n",
       "    </tr>\n",
       "  </tbody>\n",
       "</table>\n",
       "</div>"
      ],
      "text/plain": [
       "                 YearsExperience    Salary\n",
       "YearsExperience         1.000000  0.978242\n",
       "Salary                  0.978242  1.000000"
      ]
     },
     "execution_count": 20,
     "metadata": {},
     "output_type": "execute_result"
    }
   ],
   "source": [
    "df.corr()"
   ]
  },
  {
   "cell_type": "code",
   "execution_count": 35,
   "id": "9e971863",
   "metadata": {},
   "outputs": [
    {
     "data": {
      "text/plain": [
       "<AxesSubplot:ylabel='YearsExperience'>"
      ]
     },
     "execution_count": 35,
     "metadata": {},
     "output_type": "execute_result"
    },
    {
     "data": {
      "image/png": "[encoded data removed]",
      "text/plain": [
       "<Figure size 640x480 with 1 Axes>"
      ]
     },
     "metadata": {},
     "output_type": "display_data"
    }
   ],
   "source": [
    "sns.boxplot(y=df['YearsExperience'],color='brown')"
   ]
  },
  {
   "cell_type": "code",
   "execution_count": 33,
   "id": "59af74be",
   "metadata": {},
   "outputs": [
    {
     "data": {
      "text/plain": [
       "<AxesSubplot:ylabel='Salary'>"
      ]
     },
     "execution_count": 33,
     "metadata": {},
     "output_type": "execute_result"
    },
    {
     "data": {
      "image/png": "[encoded data removed]",
      "text/plain": [
       "<Figure size 640x480 with 1 Axes>"
      ]
     },
     "metadata": {},
     "output_type": "display_data"
    }
   ],
   "source": [
    "sns.boxplot(y=df['Salary'],color='green')"
   ]
  },
  {
   "cell_type": "code",
   "execution_count": 36,
   "id": "5511e536",
   "metadata": {},
   "outputs": [],
   "source": [
    "X=df['YearsExperience']\n",
    "Y=df['Salary']"
   ]
  },
  {
   "cell_type": "markdown",
   "id": "4b1d7650",
   "metadata": {},
   "source": [
    "# Pearson_Correlation_Coefficient"
   ]
  },
  {
   "cell_type": "code",
   "execution_count": 37,
   "id": "477e9aeb",
   "metadata": {},
   "outputs": [
    {
     "name": "stdout",
     "output_type": "stream",
     "text": [
      "R value 0.9782416184887598\n"
     ]
    }
   ],
   "source": [
    "sum_products=0\n",
    "def user_pearsonr(x, y):\n",
    "    n = len(x)\n",
    "\n",
    "    # Calculate the mean of x and y\n",
    "    x_mean = sum(x) / n\n",
    "    y_mean = sum(y) / n\n",
    "\n",
    "    # Calculate the sum of squares for x and y\n",
    "    x_sum_squares = sum((x_i - x_mean) ** 2 for x_i in x)\n",
    "    y_sum_squares = sum((y_i - y_mean) ** 2 for y_i in y)\n",
    "\n",
    "    # Calculate the sum of products for x and y\n",
    "    sum_products = sum((x_i - x_mean) * (y_i - y_mean) for x_i, y_i in zip(x, y))\n",
    "    \n",
    "    # Calculate the Pearson correlation coefficient\n",
    "    r = sum_products / ((x_sum_squares * y_sum_squares) ** 0.5)\n",
    "\n",
    "    return r,x_sum_squares,y_sum_squares\n",
    "r,d1,d2=user_pearsonr(X, Y)   \n",
    "print('R value',r)"
   ]
  },
  {
   "cell_type": "markdown",
   "id": "950180de",
   "metadata": {},
   "source": [
    "# Slope"
   ]
  },
  {
   "cell_type": "code",
   "execution_count": 38,
   "id": "0b7ab2f5",
   "metadata": {},
   "outputs": [
    {
     "name": "stdout",
     "output_type": "stream",
     "text": [
      "Slope Value  9449.962321455076\n"
     ]
    }
   ],
   "source": [
    "Std_y=np.sqrt(d2/(Y.count()-1))\n",
    "Std_x=np.sqrt(d1/(X.count()-1))\n",
    "Slope=r*(Std_y/Std_x)\n",
    "print(\"Slope Value \",Slope)"
   ]
  },
  {
   "cell_type": "code",
   "execution_count": 62,
   "id": "bd75a8a4",
   "metadata": {},
   "outputs": [
    {
     "data": {
      "text/plain": [
       "<seaborn.axisgrid.FacetGrid at 0x7f96c2870490>"
      ]
     },
     "execution_count": 62,
     "metadata": {},
     "output_type": "execute_result"
    },
    {
     "data": {
      "image/png": "[encoded data removed]",
      "text/plain": [
       "<Figure size 500x500 with 1 Axes>"
      ]
     },
     "metadata": {},
     "output_type": "display_data"
    }
   ],
   "source": [
    "sns.lmplot(x =\"Salary\", y =\"YearsExperience\", data = df, order = 2, ci = None)"
   ]
  },
  {
   "cell_type": "markdown",
   "id": "c71978bc",
   "metadata": {},
   "source": [
    "# Y-intercept"
   ]
  },
  {
   "cell_type": "code",
   "execution_count": 39,
   "id": "338ebfa0",
   "metadata": {},
   "outputs": [
    {
     "data": {
      "text/plain": [
       "25792.200198668696"
      ]
     },
     "execution_count": 39,
     "metadata": {},
     "output_type": "execute_result"
    }
   ],
   "source": [
    "y_intercept=Y.mean()-Slope*X.mean()\n",
    "y_intercept"
   ]
  },
  {
   "cell_type": "markdown",
   "id": "fd26b441",
   "metadata": {},
   "source": [
    "# Predection"
   ]
  },
  {
   "cell_type": "code",
   "execution_count": 40,
   "id": "8f2a76f7",
   "metadata": {},
   "outputs": [
    {
     "data": {
      "text/plain": [
       "96666.91760958177"
      ]
     },
     "execution_count": 40,
     "metadata": {},
     "output_type": "execute_result"
    }
   ],
   "source": [
    "#Considering x as 7.5\n",
    "x_new=7.5\n",
    "y_pred=y_intercept+(Slope*x_new)\n",
    "y_pred"
   ]
  },
  {
   "cell_type": "code",
   "execution_count": 43,
   "id": "eee83105",
   "metadata": {},
   "outputs": [],
   "source": [
    "def simple_Linear_Regression(x,y):\n",
    "    n = len(x)\n",
    "\n",
    "    # Calculate the mean of x and y\n",
    "    x_mean = sum(x) / n\n",
    "    y_mean = sum(y) / n\n",
    "\n",
    "    # Calculate the sum of squares for x and y\n",
    "    x_sum_squares = sum((x_i - x_mean) ** 2 for x_i in x)\n",
    "    y_sum_squares = sum((y_i - y_mean) ** 2 for y_i in y)\n",
    "\n",
    "    # Calculate the sum of products for x and y\n",
    "    sum_products = sum((x_i - x_mean) * (y_i - y_mean) for x_i, y_i in zip(x, y))\n",
    "    \n",
    "    # Calculate the Pearson correlation coefficient\n",
    "    r = sum_products / ((x_sum_squares * y_sum_squares) ** 0.5)\n",
    "\n",
    "    print('R Value',r)\n",
    "    \n",
    "    Std_y=np.sqrt(d2/(Y.count()-1))\n",
    "    Std_x=np.sqrt(d1/(X.count()-1))\n",
    "    Slope=r*(Std_y/Std_x)\n",
    "    \n",
    "    print(\"Slope Value \",Slope)\n",
    "    \n",
    "    y_intercept=Y.mean()-Slope*X.mean()\n",
    "    y_intercept\n",
    "    \n",
    "    #x_new=7.5\n",
    "    x_new=float(input(\"Enter the year of exprience \"))\n",
    "    y_pred=y_intercept+(Slope*x_new)\n",
    "    y_pred\n",
    "    print('Expected Salary :',int(y_pred))"
   ]
  },
  {
   "cell_type": "code",
   "execution_count": 44,
   "id": "110c1c1b",
   "metadata": {},
   "outputs": [
    {
     "name": "stdout",
     "output_type": "stream",
     "text": [
      "R Value 0.9782416184887598\n",
      "Slope Value  9449.962321455076\n",
      "Enter the year of exprience 3.2\n",
      "Expected Salary : 56032\n"
     ]
    }
   ],
   "source": [
    "simple_Linear_Regression(X,Y)"
   ]
  },
  {
   "cell_type": "code",
   "execution_count": 45,
   "id": "d3bbcd74",
   "metadata": {},
   "outputs": [
    {
     "name": "stdout",
     "output_type": "stream",
     "text": [
      "(22,) (22,)\n",
      "(8,) (8,)\n"
     ]
    }
   ],
   "source": [
    "from sklearn.model_selection import train_test_split\n",
    "X_train, X_test, y_train, y_test = train_test_split(X, Y, test_size=0.25, random_state=0)\n",
    "print(X_train.shape, y_train.shape)\n",
    "print(X_test.shape, y_test.shape)\n",
    "\n",
    "y_train = y_train.values\n",
    "y_test = y_test.values"
   ]
  },
  {
   "cell_type": "code",
   "execution_count": 46,
   "id": "13575e21",
   "metadata": {},
   "outputs": [],
   "source": [
    "def simple_Linear_Regression(x,y,x_test):\n",
    "    n = len(x)\n",
    "\n",
    "    # Calculate the mean of x and y\n",
    "    x_mean = sum(x) / n\n",
    "    y_mean = sum(y) / n\n",
    "\n",
    "    # Calculate the sum of squares for x and y\n",
    "    x_sum_squares = sum((x_i - x_mean) ** 2 for x_i in x)\n",
    "    y_sum_squares = sum((y_i - y_mean) ** 2 for y_i in y)\n",
    "\n",
    "    # Calculate the sum of products for x and y\n",
    "    sum_products = sum((x_i - x_mean) * (y_i - y_mean) for x_i, y_i in zip(x, y))\n",
    "    \n",
    "    # Calculate the Pearson correlation coefficient\n",
    "    r = sum_products / ((x_sum_squares * y_sum_squares) ** 0.5)\n",
    "\n",
    "    print('R Value',r)\n",
    "    \n",
    "    Std_y=np.sqrt(d2/(Y.count()-1))\n",
    "    Std_x=np.sqrt(d1/(X.count()-1))\n",
    "    Slope=r*(Std_y/Std_x)\n",
    "    \n",
    "    print(\"Slope Value \",Slope)\n",
    "    \n",
    "    y_intercept=Y.mean()-Slope*X.mean()\n",
    "    y_intercept\n",
    "    \n",
    "    #x_new=7.5\n",
    "    #x_new=float(input(\"Enter the year of exprience \"))\n",
    "    y_pred=[]\n",
    "    for x_new in x_test:\n",
    "        y_pred.append(int(y_intercept+(Slope*x_new)))\n",
    "   \n",
    "    return y_pred"
   ]
  },
  {
   "cell_type": "code",
   "execution_count": 47,
   "id": "922d150e",
   "metadata": {},
   "outputs": [
    {
     "name": "stdout",
     "output_type": "stream",
     "text": [
      "R Value 0.9692994133384959\n",
      "Slope Value  9363.579264198463\n",
      "[40296, 122696, 64641, 62769, 115205, 107714, 116141, 63705]\n"
     ]
    }
   ],
   "source": [
    "y_pred=simple_Linear_Regression(X_train,y_train,X_test)\n",
    "print(y_pred)"
   ]
  },
  {
   "cell_type": "markdown",
   "id": "0980f653",
   "metadata": {},
   "source": [
    "# Mean Absolute Error(MAE)"
   ]
  },
  {
   "cell_type": "code",
   "execution_count": 48,
   "id": "e3886855",
   "metadata": {},
   "outputs": [
    {
     "data": {
      "text/plain": [
       "array([ 37731., 122391.,  57081.,  63218., 116969., 109431., 112635.,\n",
       "        55794.])"
      ]
     },
     "execution_count": 48,
     "metadata": {},
     "output_type": "execute_result"
    }
   ],
   "source": [
    "y_test"
   ]
  },
  {
   "cell_type": "code",
   "execution_count": 49,
   "id": "ca25a216",
   "metadata": {},
   "outputs": [],
   "source": [
    "def MAE(y_test,y_pred):\n",
    "    n=len(y_test)\n",
    "    sum_of_diff=0\n",
    "    for i in range(n):\n",
    "        sum_of_diff+=abs(y_test[i]-y_pred[i])\n",
    "    \n",
    "    return sum_of_diff/n"
   ]
  },
  {
   "cell_type": "code",
   "execution_count": 50,
   "id": "dcaf6a3f",
   "metadata": {},
   "outputs": [
    {
     "data": {
      "text/plain": [
       "3222.125"
      ]
     },
     "execution_count": 50,
     "metadata": {},
     "output_type": "execute_result"
    }
   ],
   "source": [
    "mae=MAE(y_test,y_pred)\n",
    "mae"
   ]
  },
  {
   "cell_type": "markdown",
   "id": "70e4c182",
   "metadata": {},
   "source": [
    "# Mean Squared Error(MSE)"
   ]
  },
  {
   "cell_type": "code",
   "execution_count": 51,
   "id": "7de073bf",
   "metadata": {},
   "outputs": [],
   "source": [
    "def MSE(y_test,y_pred):\n",
    "    n=len(y_test)\n",
    "    sum_of_diff=0\n",
    "    for i in range(n):\n",
    "        sum_of_diff+=(abs(y_test[i]-y_pred[i]))**2\n",
    "    \n",
    "    return sum_of_diff/n"
   ]
  },
  {
   "cell_type": "code",
   "execution_count": 52,
   "id": "28b5c1c9",
   "metadata": {},
   "outputs": [
    {
     "data": {
      "text/plain": [
       "18120399.125"
      ]
     },
     "execution_count": 52,
     "metadata": {},
     "output_type": "execute_result"
    }
   ],
   "source": [
    "mse=MSE(y_test,y_pred)\n",
    "mse"
   ]
  },
  {
   "cell_type": "markdown",
   "id": "f8c961b0",
   "metadata": {},
   "source": [
    "# Root Mean Squared Error (RMSE)"
   ]
  },
  {
   "cell_type": "code",
   "execution_count": 53,
   "id": "80907ca0",
   "metadata": {},
   "outputs": [],
   "source": [
    "def RMSE(y_test,y_pred):\n",
    "    n=len(y_test)\n",
    "    sum_of_diff=0\n",
    "    for i in range(n):\n",
    "        sum_of_diff+=(abs(y_test[i]-y_pred[i]))**2\n",
    "    \n",
    "    return np.sqrt(sum_of_diff/n)"
   ]
  },
  {
   "cell_type": "code",
   "execution_count": 54,
   "id": "848d50f4",
   "metadata": {},
   "outputs": [
    {
     "data": {
      "text/plain": [
       "4256.806211821252"
      ]
     },
     "execution_count": 54,
     "metadata": {},
     "output_type": "execute_result"
    }
   ],
   "source": [
    "rmse=RMSE(y_test,y_pred)\n",
    "rmse"
   ]
  },
  {
   "cell_type": "markdown",
   "id": "7fc4e333",
   "metadata": {},
   "source": [
    "# Relative Root Mean Squared Error (RRMSE)"
   ]
  },
  {
   "cell_type": "code",
   "execution_count": 55,
   "id": "b3c3c6df",
   "metadata": {},
   "outputs": [],
   "source": [
    "def RRMSE(y_test,y_pred):\n",
    "    n=len(y_test)\n",
    "    sum_of_diff=0\n",
    "    sum_of_ypred=0\n",
    "    for i in range(n):\n",
    "        sum_of_diff+=(abs(y_test[i]-y_pred[i]))**2\n",
    "        sum_of_ypred+=(y_pred[i]**2)\n",
    "    \n",
    "    return np.sqrt((sum_of_diff/n)/sum_of_ypred) "
   ]
  },
  {
   "cell_type": "code",
   "execution_count": 56,
   "id": "2984cabc",
   "metadata": {},
   "outputs": [
    {
     "data": {
      "text/plain": [
       "0.016418782904816038"
      ]
     },
     "execution_count": 56,
     "metadata": {},
     "output_type": "execute_result"
    }
   ],
   "source": [
    "rrmse=RRMSE(y_test,y_pred)\n",
    "rrmse"
   ]
  },
  {
   "cell_type": "markdown",
   "id": "4718493c",
   "metadata": {},
   "source": [
    "# R Squared (R2)"
   ]
  },
  {
   "cell_type": "code",
   "execution_count": 57,
   "id": "ef1d80fe",
   "metadata": {},
   "outputs": [],
   "source": [
    "def r2(y_test,y_pred): \n",
    "    n=len(y_test)\n",
    "    mean=y_test.mean()\n",
    "    sum_of_sqmean=0\n",
    "    sum_of_sqerror=0\n",
    "    for i in range(n):\n",
    "        sum_of_sqmean+=(y_test[i]-mean)**2\n",
    "        sum_of_sqerror+=(abs(y_test[i]-y_pred[i]))**2\n",
    "    return (1-(sum_of_sqerror/sum_of_sqmean))*100\n"
   ]
  },
  {
   "cell_type": "code",
   "execution_count": 58,
   "id": "f71b83f6",
   "metadata": {},
   "outputs": [
    {
     "data": {
      "text/plain": [
       "98.21454669188093"
      ]
     },
     "execution_count": 58,
     "metadata": {},
     "output_type": "execute_result"
    }
   ],
   "source": [
    "r_sq= r2(y_test,y_pred)\n",
    "r_sq"
   ]
  },
  {
   "cell_type": "markdown",
   "id": "136beebc",
   "metadata": {},
   "source": [
    "# Adjusted R Squared "
   ]
  },
  {
   "cell_type": "code",
   "execution_count": 59,
   "id": "5c1aeba2",
   "metadata": {},
   "outputs": [],
   "source": [
    "def adj_r2(y_test,y_pred): \n",
    "    n=len(y_test)\n",
    "    mean=y_test.mean()\n",
    "    sum_of_sqmean=0\n",
    "    sum_of_sqerror=0\n",
    "    for i in range(n):\n",
    "        sum_of_sqmean+=(y_test[i]-mean)**2\n",
    "        sum_of_sqerror+=(abs(y_test[i]-y_pred[i]))**2\n",
    "    r2=(1-(sum_of_sqerror/sum_of_sqmean))\n",
    "    #p value is number of columns(i.e no. of predictors)\n",
    "    ytest=pd.DataFrame(y_test)\n",
    "    p=ytest.shape[1]\n",
    "    adjr2=1-((1-r2)*(n-1)/(n-p-1))\n",
    "    return adjr2"
   ]
  },
  {
   "cell_type": "code",
   "execution_count": 60,
   "id": "1a1236b8",
   "metadata": {},
   "outputs": [
    {
     "data": {
      "text/plain": [
       "0.9791697114052774"
      ]
     },
     "execution_count": 60,
     "metadata": {},
     "output_type": "execute_result"
    }
   ],
   "source": [
    "adjr2=adj_r2(y_test,y_pred)\n",
    "adjr2"
   ]
  }
 ],
 "metadata": {
  "kernelspec": {
   "display_name": "Python 3 (ipykernel)",
   "language": "python",
   "name": "python3"
  },
  "language_info": {
   "codemirror_mode": {
    "name": "ipython",
    "version": 3
   },
   "file_extension": ".py",
   "mimetype": "text/x-python",
   "name": "python",
   "nbconvert_exporter": "python",
   "pygments_lexer": "ipython3",
   "version": "3.9.12"
  }
 },
 "nbformat": 4,
 "nbformat_minor": 5
}
