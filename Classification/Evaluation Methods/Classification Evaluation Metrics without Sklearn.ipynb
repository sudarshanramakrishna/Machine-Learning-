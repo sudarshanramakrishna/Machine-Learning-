{
 "cells": [
  {
   "cell_type": "markdown",
   "id": "8a31ba38",
   "metadata": {},
   "source": [
    "# Confusion Matrix Without Using inbuit function"
   ]
  },
  {
   "attachments": {
    "1_jMs1RmSwnYgR9CsBw-z1dw.png": {
     "image/png": "[encoded data removed]"
    }
   },
   "cell_type": "markdown",
   "id": "0ba76cf1",
   "metadata": {},
   "source": [
    "![1_jMs1RmSwnYgR9CsBw-z1dw.png](attachment:1_jMs1RmSwnYgR9CsBw-z1dw.png)"
   ]
  },
  {
   "cell_type": "markdown",
   "id": "ed5a6bba",
   "metadata": {},
   "source": [
    "To calculate a confusion matrix without using the confusion_matrix() function, you can manually count the number of true positive, true negative, false positive, and false negative predictions made by a machine learning model.\n",
    "\n",
    "A confusion matrix is a table that is used to evaluate the performance of a classification model. It contains information about the actual and predicted classifications made by the model. The rows of the matrix represent the actual class labels, while the columns represent the predicted class labels."
   ]
  },
  {
   "cell_type": "code",
   "execution_count": 1,
   "id": "15029866",
   "metadata": {},
   "outputs": [],
   "source": [
    "def user_confusion_matrix(y_true, y_pred):\n",
    "    cm = [[0, 0], [0, 0]]\n",
    "    for i in range(len(y_true)):\n",
    "        if y_true[i] == y_pred[i] == 0:\n",
    "            cm[0][0] += 1\n",
    "        elif y_true[i] == 0 and y_pred[i] == 1:\n",
    "            cm[0][1] += 1\n",
    "        elif y_true[i] == 1 and y_pred[i] == 0:\n",
    "            cm[1][0] += 1\n",
    "        else:\n",
    "            cm[1][1] += 1\n",
    "    return cm"
   ]
  },
  {
   "cell_type": "markdown",
   "id": "f0ab5802",
   "metadata": {},
   "source": [
    "This function takes as input the true labels y_true and the predicted labels y_pred, and returns the confusion matrix as a 2x2 list of integers.\n",
    "\n",
    "The confusion matrix can be used to calculate various evaluation metrics such as accuracy, precision, recall, and F1 score."
   ]
  },
  {
   "cell_type": "markdown",
   "id": "66ae9c27",
   "metadata": {},
   "source": [
    "# Accuracy"
   ]
  },
  {
   "attachments": {
    "download-1.png": {
     "image/png": "[encoded data removed]"
    }
   },
   "cell_type": "markdown",
   "id": "455b05f8",
   "metadata": {},
   "source": [
    "![download-1.png](attachment:download-1.png)"
   ]
  },
  {
   "cell_type": "markdown",
   "id": "7f710dac",
   "metadata": {},
   "source": [
    "# In a confusion matrix, accuracy is the number of correct predictions made by a model divided by the total number of predictions made. \n",
    "\n",
    "It is calculated by adding up the number of true positive predictions, true negative predictions, false positive predictions, and false negative predictions, and then dividing the number of correct predictions by the total number of predictions.\n",
    "\n",
    "For example, consider a binary classification model that has made 100 predictions, where it has correctly predicted 70 positive instances and 30 negative instances. The confusion matrix for this model would look like this:\n",
    "\n",
    "Actual Positive\tActual Negative\n",
    "\n",
    "Predicted Positive\t70\t10\n",
    "\n",
    "Predicted Negative\t20\t0\n",
    "\n",
    "\n",
    "The accuracy of this model would be 70 + 30 = 100 correct predictions / 100 total predictions = 70%. This means that the model correctly predicted the class of 70% of the instances it was asked to classify.\n",
    "\n",
    "It's important to note that accuracy is not always the best measure of a model's performance, especially when the classes are imbalanced (i.e., when one class is much more prevalent than the other). In such cases, other metrics such as precision, recall, and F1 score may be more meaningful.\n",
    "\n",
    "\n",
    "\n",
    "Regenerate response"
   ]
  },
  {
   "cell_type": "code",
   "execution_count": 2,
   "id": "f2f2249a",
   "metadata": {},
   "outputs": [],
   "source": [
    "def user_accuracy(y_true, y_pred):\n",
    "    correct = 0\n",
    "    for i in range(len(y_true)):\n",
    "        if y_true[i] == y_pred[i]:\n",
    "            correct += 1\n",
    "    return correct / len(y_true)"
   ]
  },
  {
   "cell_type": "markdown",
   "id": "9a98bb9a",
   "metadata": {},
   "source": [
    "# Precision"
   ]
  },
  {
   "attachments": {
    "download-6.png": {
     "image/png": "[encoded data removed]"
    }
   },
   "cell_type": "markdown",
   "id": "f370b5dd",
   "metadata": {},
   "source": [
    "![download-6.png](attachment:download-6.png)"
   ]
  },
  {
   "cell_type": "markdown",
   "id": "5cd70f1d",
   "metadata": {},
   "source": [
    "# Precision is a measure of a model's ability to make correct positive predictions. It is calculated as the number of true positive predictions divided by the sum of the true positive predictions and the false positive predictions.\n",
    "\n",
    "For example, consider a binary classification model that has made 100 predictions, where it has correctly predicted 70 positive instances and 30 negative instances. The confusion matrix for this model would look like this:\n",
    "\n",
    "Actual Positive\tActual Negative\n",
    "\n",
    "Predicted Positive\t70\t10\n",
    "\n",
    "Predicted Negative\t20\t0\n",
    "\n",
    "The precision of this model would be 70 true positive predictions / (70 true positive predictions + 10 false positive predictions) = 70%. This means that, out of all the instances the model predicted to be positive, 70% of them were actually positive.\n",
    "\n",
    "Precision is a useful metric when we want to minimize the number of false positive predictions, for example in a medical diagnosis setting where a false positive could have serious consequences. However, it's important to note that a high precision does not necessarily imply a high recall (i.e., the ability to correctly identify all positive instances). \n",
    "\n",
    "A model with high precision and low recall will have a low false positive rate, but it will also miss a lot of positive instances."
   ]
  },
  {
   "cell_type": "code",
   "execution_count": 3,
   "id": "93106b24",
   "metadata": {},
   "outputs": [],
   "source": [
    "def precision(y_true,y_pred):\n",
    "    TP=0\n",
    "    FP=0\n",
    "    for i in range(len(y_true)):\n",
    "            if y_true[i] == y_pred[i] == 1:\n",
    "                TP+=1\n",
    "            elif y_true[i] == 0 and y_pred[i] == 1:\n",
    "                FP+=1\n",
    "    pre=TP/(TP+FP)\n",
    "    print('Precision: ',pre)"
   ]
  },
  {
   "cell_type": "markdown",
   "id": "1c28cde5",
   "metadata": {},
   "source": [
    "# Recall"
   ]
  },
  {
   "attachments": {
    "download-2.png": {
     "image/png": "[encoded data removed]"
    }
   },
   "cell_type": "markdown",
   "id": "05409e33",
   "metadata": {},
   "source": [
    "![download-2.png](attachment:download-2.png)"
   ]
  },
  {
   "cell_type": "markdown",
   "id": "298cccbf",
   "metadata": {},
   "source": [
    "# Recall, also known as sensitivity or true positive rate, is a measure of a model's ability to correctly identify positive instances. It is calculated as the number of true positive predictions divided by the sum of the true positive predictions and the false negative predictions.\n",
    "\n",
    "For example, consider a binary classification model that has made 100 predictions, where it has correctly predicted 70 positive instances and 30 negative instances. The confusion matrix for this model would look like this:\n",
    "\n",
    "Actual Positive\tActual Negative\n",
    "\n",
    "Predicted Positive\t70\t10\n",
    "\n",
    "Predicted Negative\t20\t0\n",
    "\n",
    "The recall of this model would be 70 true positive predictions / (70 true positive predictions + 20 false negative predictions) = 77.78%. This means that the model correctly identified 77.78% of all the positive instances in the dataset.\n",
    "\n",
    "Recall is a useful metric when we want to minimize the number of false negative predictions, for example in a fraud detection setting where a false negative could have serious consequences.\n",
    "\n",
    "However, it's important to note that a high recall does not necessarily imply a high precision (i.e., the ability to make correct positive predictions). A model with high recall and low precision will have a low false negative rate, but it will also make a lot of false positive predictions."
   ]
  },
  {
   "cell_type": "code",
   "execution_count": 4,
   "id": "bbb49261",
   "metadata": {},
   "outputs": [],
   "source": [
    "def Recall(y_true,y_pred):\n",
    "    TP=0\n",
    "    FN=0\n",
    "    for i in range(len(y_true)):\n",
    "            if y_true[i] == y_pred[i] == 1:\n",
    "                TP+=1\n",
    "            elif y_true[i] == 1 and y_pred[i] == 0:\n",
    "                FN+=1\n",
    "    recall=TP/(TP+FP)\n",
    "    print('Recall: ',recall)"
   ]
  },
  {
   "cell_type": "markdown",
   "id": "dddad9d7",
   "metadata": {},
   "source": [
    "# F1-score for a binary classifier"
   ]
  },
  {
   "attachments": {
    "download-3.png": {
     "image/png": "[encoded data removed]"
    }
   },
   "cell_type": "markdown",
   "id": "5147c406",
   "metadata": {},
   "source": [
    "![download-3.png](attachment:download-3.png)"
   ]
  },
  {
   "cell_type": "markdown",
   "id": "4cd2076b",
   "metadata": {},
   "source": [
    "# The F1 score is a metric that combines precision and recall into a single score. It is calculated as the harmonic mean of precision and recall, with a value ranging from 0 to 1, where a higher value indicates better performance.\n",
    "\n",
    "The F1 score is defined as follows:\n",
    "\n",
    "F1 = 2 * (precision * recall) / (precision + recall)\n",
    "\n",
    "For example, consider a binary classification model that has made 100 predictions, where it has correctly predicted 70 positive instances and 30 negative instances. The confusion matrix for this model would look like this:\n",
    "\n",
    "Actual Positive\tActual Negative\n",
    "\n",
    "Predicted Positive\t70\t10\n",
    "\n",
    "Predicted Negative\t20\t0\n",
    "\n",
    "The precision of this model would be 70 true positive predictions / (70 true positive predictions + 10 false positive predictions) = 70%. The recall of this model would be 70 true positive predictions / (70 true positive predictions + 20 false negative predictions) = 77.78%. The F1 score of this model would be 2 * (70% * 77.78%) / (70% + 77.78%) = 73.68%.\n",
    "\n",
    "The F1 score is a useful metric when we want to balance precision and recall, and it is often used as the default metric for evaluating the performance of classification models. However, it's important to note that the F1 score is sensitive to class imbalance, and it may not always be the best metric to use in every situation."
   ]
  },
  {
   "cell_type": "code",
   "execution_count": 5,
   "id": "e8c32488",
   "metadata": {},
   "outputs": [],
   "source": [
    "def f1_score(y_true,y_pred):\n",
    "    TP=0\n",
    "    FN=0\n",
    "    FP=0\n",
    "    for i in range(len(y_true)):\n",
    "            if y_true[i] == y_pred[i] == 1:\n",
    "                TP+=1\n",
    "            elif y_true[i] == 1 and y_pred[i] == 0:\n",
    "                FN+=1\n",
    "            elif y_true[i] == 0 and y_pred[i] == 1:\n",
    "                FP+=1\n",
    "    r=TP/(TP+FP)\n",
    "    p=TP/(TP+FP)\n",
    "    f1_score=(2*r*p)/(p+r)\n",
    "    print('F1-Score: ',f1_score)"
   ]
  },
  {
   "cell_type": "markdown",
   "id": "f981c5de",
   "metadata": {},
   "source": [
    "# Specificity"
   ]
  },
  {
   "attachments": {
    "download-4.png": {
     "image/png": "[encoded data removed]"
    }
   },
   "cell_type": "markdown",
   "id": "cb843760",
   "metadata": {},
   "source": [
    "![download-4.png](attachment:download-4.png)"
   ]
  },
  {
   "cell_type": "markdown",
   "id": "1194304f",
   "metadata": {},
   "source": [
    "# Specificity, also known as true negative rate, is a measure of a model's ability to correctly identify negative instances. It is calculated as the number of true negative predictions divided by the sum of the true negative predictions and the false positive predictions.\n",
    "\n",
    "For example, consider a binary classification model that has made 100 predictions, where it has correctly predicted 70 positive instances and 30 negative instances. The confusion matrix for this model would look like this:\n",
    "\n",
    "Actual Positive\tActual Negative\n",
    "\n",
    "Predicted Positive\t70\t10\n",
    "\n",
    "Predicted Negative\t20\t0\n",
    "\n",
    "The specificity of this model would be 0 true negative predictions / (0 true negative predictions + 10 false positive predictions) = 0%. This means that the model did not correctly identify any of the negative instances in the dataset.\n",
    "\n",
    "Specificity is a useful metric when we want to minimize the number of false positive predictions, for example in a medical diagnosis setting where a false positive could have serious consequences. It's often used in conjunction with sensitivity (i.e., recall) to evaluate the performance of a binary classification model."
   ]
  },
  {
   "cell_type": "code",
   "execution_count": 6,
   "id": "405f61dc",
   "metadata": {},
   "outputs": [],
   "source": [
    "def Specificity(y_true,y_pred):\n",
    "    TN=0\n",
    "    for i in range(len(y_true)):\n",
    "            if y_true[i] == y_pred[i] == 0:\n",
    "                TN+=1\n",
    "    x=y.value_counts()\n",
    "    Spe=TN/x[0]\n",
    "    print('Specificity: ',Spe)"
   ]
  },
  {
   "cell_type": "code",
   "execution_count": null,
   "id": "9c60456d",
   "metadata": {},
   "outputs": [],
   "source": []
  }
 ],
 "metadata": {
  "kernelspec": {
   "display_name": "Python 3 (ipykernel)",
   "language": "python",
   "name": "python3"
  },
  "language_info": {
   "codemirror_mode": {
    "name": "ipython",
    "version": 3
   },
   "file_extension": ".py",
   "mimetype": "text/x-python",
   "name": "python",
   "nbconvert_exporter": "python",
   "pygments_lexer": "ipython3",
   "version": "3.9.12"
  }
 },
 "nbformat": 4,
 "nbformat_minor": 5
}
